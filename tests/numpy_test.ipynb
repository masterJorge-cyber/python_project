{
 "cells": [
  {
   "cell_type": "code",
   "execution_count": 1,
   "id": "fd9ebf47",
   "metadata": {},
   "outputs": [],
   "source": [
    "import numpy as np\n",
    "import time"
   ]
  },
  {
   "cell_type": "code",
   "execution_count": 2,
   "id": "3ffa6083",
   "metadata": {},
   "outputs": [
    {
     "name": "stdout",
     "output_type": "stream",
     "text": [
      "\n",
      " Time taken for list 0.000997304916381836\n"
     ]
    }
   ],
   "source": [
    "a = [1, 2, 3, 4, 5, 6, 7, 8, 9, 10] * 1000\n",
    "\n",
    "start = time.time()\n",
    "\n",
    "for i in range(len(a)):\n",
    "    a[i] = a[i]*2\n",
    "    # print(a[i])\n",
    "\n",
    "print(f\"\\n Time taken for list {time.time() - start}\")"
   ]
  },
  {
   "cell_type": "code",
   "execution_count": 3,
   "id": "a94f9fed",
   "metadata": {},
   "outputs": [
    {
     "name": "stdout",
     "output_type": "stream",
     "text": [
      "List size: 104\n",
      "Array size: 20\n"
     ]
    }
   ],
   "source": [
    "import sys\n",
    "a = [1, 2, 3, 4, 5]\n",
    "arr = np.array(a)\n",
    "\n",
    "print(\"List size:\", sys.getsizeof(a))\n",
    "\n",
    "print(\"Array size:\", arr.nbytes)"
   ]
  }
 ],
 "metadata": {
  "kernelspec": {
   "display_name": "py310_env",
   "language": "python",
   "name": "python3"
  },
  "language_info": {
   "codemirror_mode": {
    "name": "ipython",
    "version": 3
   },
   "file_extension": ".py",
   "mimetype": "text/x-python",
   "name": "python",
   "nbconvert_exporter": "python",
   "pygments_lexer": "ipython3",
   "version": "3.10.18"
  }
 },
 "nbformat": 4,
 "nbformat_minor": 5
}
