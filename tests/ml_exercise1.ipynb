{
 "cells": [
  {
   "cell_type": "code",
   "execution_count": 30,
   "id": "46b8c336",
   "metadata": {},
   "outputs": [],
   "source": [
    "import matplotlib.pyplot as mp\n",
    "import pandas as pd"
   ]
  },
  {
   "cell_type": "code",
   "execution_count": 34,
   "id": "10b09821",
   "metadata": {},
   "outputs": [
    {
     "name": "stdout",
     "output_type": "stream",
     "text": [
      "As linhas inteiras que contêm valores nulos são:\n",
      "Empty DataFrame\n",
      "Columns: [Pregnancies, Glucose, BloodPressure, SkinThickness, Insulin, BMI, DiabetesPedigreeFunction, Age, Outcome]\n",
      "Index: []\n"
     ]
    }
   ],
   "source": [
    "\n",
    "\n",
    "data = pd.read_csv('datasets/diabetes.csv')\n",
    "# data.head()\n",
    "# len(data)\n",
    "mascara_linhas_nulas = data.isnull().any(axis=1)\n",
    "\n",
    "# Filtre o DataFrame para obter as linhas que contêm nulos\n",
    "linhas_com_nulos = data[mascara_linhas_nulas]\n",
    "\n",
    "print('As linhas inteiras que contêm valores nulos são:')\n",
    "print(linhas_com_nulos)"
   ]
  },
  {
   "cell_type": "code",
   "execution_count": null,
   "id": "11aebc09",
   "metadata": {},
   "outputs": [],
   "source": [
    "import seaborn as sns\n",
    "\n",
    "# Supondo que você tenha um DataFrame 'df' com as colunas 'Glicose' e 'Outcome'\n",
    "# 'Outcome' seria uma coluna categórica (ex: 0 para \"sem diabetes\", 1 para \"com diabetes\")\n",
    "\n",
    "sns.boxplot(x=data['Outcome'], y=data['Glucose'], data=data)\n",
    "mp.title('Relação entre Glicose e Diabetes')\n",
    "mp.xlabel('Diagnóstico de Diabetes (0=Não, 1=Sim)')\n",
    "mp.ylabel('Nível de Glicose')\n",
    "mp.show()"
   ]
  },
  {
   "cell_type": "code",
   "execution_count": null,
   "id": "cba21f54",
   "metadata": {},
   "outputs": [],
   "source": [
    "data.shape"
   ]
  }
 ],
 "metadata": {
  "kernelspec": {
   "display_name": "py310_env",
   "language": "python",
   "name": "python3"
  },
  "language_info": {
   "codemirror_mode": {
    "name": "ipython",
    "version": 3
   },
   "file_extension": ".py",
   "mimetype": "text/x-python",
   "name": "python",
   "nbconvert_exporter": "python",
   "pygments_lexer": "ipython3",
   "version": "3.10.18"
  }
 },
 "nbformat": 4,
 "nbformat_minor": 5
}
